{
  "nbformat": 4,
  "nbformat_minor": 0,
  "metadata": {
    "colab": {
      "provenance": []
    },
    "kernelspec": {
      "name": "python3",
      "display_name": "Python 3"
    },
    "language_info": {
      "name": "python"
    }
  },
  "cells": [
    {
      "cell_type": "code",
      "source": [
        "from random import choice\n",
        "from random import uniform\n",
        "from numpy.random import randint"
      ],
      "metadata": {
        "id": "RM6EXH0EYVxk"
      },
      "execution_count": null,
      "outputs": []
    },
    {
      "cell_type": "code",
      "execution_count": null,
      "metadata": {
        "id": "JfNMD-6OYAMX"
      },
      "outputs": [],
      "source": [
        "def initialization():\n",
        "  parameters = {}\n",
        "  f1 = choice([16, 32, 64])\n",
        "  parameters[\"f1\"] = f1\n",
        "  f2 = choice([32, 64, 128])\n",
        "  parameters[\"f2\"] = f2\n",
        "  f3 = choice([32, 64, 128])\n",
        "  parameters[\"f3\"] = f3\n",
        "  f4 = choice([128, 256, 512])\n",
        "  parameters[\"f4\"] = f4\n",
        "  k = choice([3,5])\n",
        "  parameters[\"k\"] = k\n",
        "  a1 = choice([\"relu\", \"selu\", \"elu\"])\n",
        "  parameters[\"a1\"] = a1\n",
        "  a2 = choice([\"relu\", \"selu\", \"elu\"])\n",
        "  parameters[\"a2\"] = a2\n",
        "  d1 = round(uniform(0.1, 0.5), 1)\n",
        "  parameters[\"d1\"] = d1\n",
        "  d2 = round(uniform(0.1, 0.5), 1)\n",
        "  parameters[\"d2\"] = d2\n",
        "  op = choice([\"adamax\", \"adadelta\", \"adam\", \"adagrad\"])\n",
        "  parameters[\"op\"] = op\n",
        "  ep = randint(50,100)\n",
        "  parameters[\"ep\"] = ep\n",
        "  return parameters\n",
        ""
      ]
    },
    {
      "cell_type": "code",
      "source": [
        "def generate_population(n):\n",
        "  population = []\n",
        "  for i in range(n):\n",
        "    chromosome = initialization()\n",
        "    population.append(chromosome)\n",
        "  return population\n",
        "\n",
        "\n",
        "# Fitness evaluation metric: Classification Accuracy\n",
        "def fitness_evaluation(model):\n",
        "  metrics = model.evaluate(test_ds)\n",
        "  print(f\"metrics:{metrics}\")\n",
        "  return metrics[1]\n",
        "\n",
        "\n",
        "# Roulette wheel selection method\n",
        "def selection(population_fitness):\n",
        "  total = sum(population_fitness)\n",
        "  percentage = [round((x/total) * 100) for x in population_fitness]\n",
        "  selection_wheel = []\n",
        "  for pop_index,num in enumerate(percentage):\n",
        "    selection_wheel.extend([pop_index]*num)\n",
        "  parent1_ind = choice(selection_wheel)\n",
        "  parent2_ind = choice(selection_wheel)\n",
        "  return [parent1_ind, parent2_ind]"
      ],
      "metadata": {
        "id": "ggkUmY8uYYjj"
      },
      "execution_count": null,
      "outputs": []
    },
    {
      "cell_type": "code",
      "source": [
        "def crossover(parent1, parent2):\n",
        "  child1 = {}\n",
        "  child2 = {}\n",
        "\n",
        "  child1[\"f1\"] = choice([parent1[\"f1\"], parent2[\"f1\"]])\n",
        "  child1[\"f2\"] = choice([parent1[\"f2\"], parent2[\"f2\"]])\n",
        "  child1[\"f3\"] = choice([parent1[\"f3\"], parent2[\"f3\"]])\n",
        "  child1[\"f4\"] = choice([parent1[\"f4\"], parent2[\"f4\"]])\n",
        "\n",
        "  child2[\"f1\"] = choice([parent1[\"f1\"], parent2[\"f1\"]])\n",
        "  child2[\"f2\"] = choice([parent1[\"f2\"], parent2[\"f2\"]])\n",
        "  child2[\"f3\"] = choice([parent1[\"f3\"], parent2[\"f3\"]])\n",
        "  child2[\"f4\"] = choice([parent1[\"f4\"], parent2[\"f4\"]])\n",
        "\n",
        "  child1[\"k\"] = choice([parent1[\"k\"], parent2[\"k\"]])\n",
        "  child2[\"k\"] = choice([parent1[\"k\"], parent2[\"k\"]])\n",
        "\n",
        "  child1[\"a1\"] = parent1[\"a2\"]\n",
        "  child2[\"a1\"] = parent2[\"a2\"]\n",
        "\n",
        "  child1[\"a2\"] = parent2[\"a1\"]\n",
        "  child2[\"a2\"] = parent1[\"a1\"]\n",
        "\n",
        "  child1[\"d1\"] = parent1[\"d1\"]\n",
        "  child2[\"d1\"] = parent2[\"d1\"]\n",
        "\n",
        "  child1[\"d2\"] = parent2[\"d2\"]\n",
        "  child2[\"d2\"] = parent1[\"d2\"]\n",
        "\n",
        "  child1[\"op\"] = parent2[\"op\"]\n",
        "  child2[\"op\"] = parent1[\"op\"]\n",
        "\n",
        "  child1[\"ep\"] = parent1[\"ep\"]\n",
        "  child2[\"ep\"] = parent2[\"ep\"]\n",
        "  return [child1, child2]"
      ],
      "metadata": {
        "id": "sOlgVho4YiLg"
      },
      "execution_count": null,
      "outputs": []
    },
    {
      "cell_type": "code",
      "source": [
        "def mutation(chromosome):\n",
        "  flag = randint(0,40)\n",
        "  if flag <= 20:\n",
        "    chromosome[\"ep\"] += randint(0, 10)\n",
        "  return chromosome"
      ],
      "metadata": {
        "id": "r8xmjODeYnhb"
      },
      "execution_count": null,
      "outputs": []
    },
    {
      "cell_type": "code",
      "source": [
        "generations = 12\n",
        "threshold = 90\n",
        "num_pop = 10\n",
        "\n",
        "population = generate_population(num_pop)\n",
        "acc_best = []\n",
        "par_total = []\n",
        "acc_total = []\n",
        "par_best = []\n",
        "for generation in range(generations):\n",
        "\n",
        "  population_fitness = []\n",
        "  per1=[]\n",
        "  for chromosome in population:\n",
        "    f1 = chromosome[\"f1\"]\n",
        "    f2 = chromosome[\"f2\"]\n",
        "    f3 = chromosome[\"f3\"]\n",
        "    f4 = chromosome[\"f4\"]\n",
        "    k = chromosome[\"k\"]\n",
        "    a1 = chromosome[\"a1\"]\n",
        "    a2 = chromosome[\"a2\"]\n",
        "    d1 = chromosome[\"d1\"]\n",
        "    d2 = chromosome[\"d2\"]\n",
        "    op = chromosome[\"op\"]\n",
        "    ep = chromosome[\"ep\"]\n",
        "\n",
        "    try:\n",
        "      model = CNN_model(f1, f2, f3, f4, k, a1, a2, d1, d2, op, ep)\n",
        "      acc = fitness_evaluation(model)\n",
        "      par_total.append(chromosome)\n",
        "      acc_total.append(acc)\n",
        "      per1.append(chromosome)\n",
        "      print(\"Parameters: \", chromosome)\n",
        "      print(\"Accuracy: \", round(acc,3))\n",
        "    except:\n",
        "      acc=0\n",
        "      print(\"Parameters: \", chromosome)\n",
        "      print(\"Invalid parameters - Build fail\")\n",
        "\n",
        "    population_fitness.append(acc)\n",
        "  print(population_fitness)\n",
        "  parents_ind = selection(population_fitness)\n",
        "  parent1 = population[parents_ind[0]]\n",
        "  parent2 = population[parents_ind[1]]\n",
        "\n",
        "  children = crossover(parent1, parent2)\n",
        "  child1 = mutation(children[0])\n",
        "  child2 = mutation(children[1])\n",
        "\n",
        "  population.append(child1)\n",
        "  population.append(child2)\n",
        "\n",
        "  print(\"Generation \", generation+1,\" Outcome: \")\n",
        "  if max(population_fitness) >= threshold:\n",
        "    print(\"Obtained desired accuracy: \", max(population_fitness))\n",
        "    break\n",
        "  else:\n",
        "    print(\"Maximum accuracy in generation {} : {}\".format(generation+1, max(population_fitness)))\n",
        "    max_pop = max(population_fitness)\n",
        "    c1=population_fitness.index(max_pop)\n",
        "    par_best.append(per1[c1])\n",
        "    acc_best.append(max_pop)\n",
        "\n",
        "  first_min = min(population_fitness)\n",
        "  first_min_ind = population_fitness.index(first_min)\n",
        "  population.remove(population[first_min_ind])\n",
        "  second_min = min(population_fitness)\n",
        "  second_min_ind = population_fitness.index(second_min)\n",
        "  population.remove(population[second_min_ind])\n",
        "\n",
        "\n",
        "print(par_total)\n",
        "print(acc_total)\n",
        "print(par_best)\n",
        "print(acc_best)\n"
      ],
      "metadata": {
        "id": "fvhTDpzyakDI"
      },
      "execution_count": null,
      "outputs": []
    },
    {
      "cell_type": "code",
      "source": [
        "var1=len(acc_best)\n",
        "acc_best.sort()\n",
        "print(acc_best[var1-1])"
      ],
      "metadata": {
        "id": "dLlRTg51ZEgw"
      },
      "execution_count": null,
      "outputs": []
    }
  ]
}